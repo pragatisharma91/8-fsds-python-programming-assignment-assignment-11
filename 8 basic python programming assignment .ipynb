{
 "cells": [
  {
   "cell_type": "markdown",
   "id": "1a5482dd",
   "metadata": {},
   "source": [
    "1. Write a Python Program to Add Two Matrices?"
   ]
  },
  {
   "cell_type": "code",
   "execution_count": 2,
   "id": "d68ea227",
   "metadata": {},
   "outputs": [
    {
     "data": {
      "text/plain": [
       "[[2, 3, 4], [6, 7, 8], [10, 11, 12]]"
      ]
     },
     "execution_count": 2,
     "metadata": {},
     "output_type": "execute_result"
    }
   ],
   "source": [
    "mat1 = [[1,2,3],\n",
    "        [4,5,6],\n",
    "        [7,8,9]]\n",
    "\n",
    "mat2 = [[1,1,1],\n",
    "        [2,2,2],\n",
    "        [3,3,3]]\n",
    "result = []\n",
    "\n",
    "for i in range(len(mat1)):\n",
    "    row = []\n",
    "    for j in range(len(mat1)):\n",
    "        row.append(mat1[i][j]+mat2[i][j])\n",
    "        \n",
    "    result.append(row)\n",
    "    \n",
    "result"
   ]
  },
  {
   "cell_type": "markdown",
   "id": "1d4f196f",
   "metadata": {},
   "source": [
    "2. Write a Python Program to Multiply Two Matrices?"
   ]
  },
  {
   "cell_type": "code",
   "execution_count": 3,
   "id": "70d5c6f4",
   "metadata": {},
   "outputs": [
    {
     "data": {
      "text/plain": [
       "[[1, 2, 3], [8, 10, 12], [21, 24, 27]]"
      ]
     },
     "execution_count": 3,
     "metadata": {},
     "output_type": "execute_result"
    }
   ],
   "source": [
    "mat1 = [[1,2,3],\n",
    "        [4,5,6],\n",
    "        [7,8,9]]\n",
    "\n",
    "mat2 = [[1,1,1],\n",
    "        [2,2,2],\n",
    "        [3,3,3]]\n",
    "result = []\n",
    "\n",
    "for i in range(len(mat1)):\n",
    "    row = []\n",
    "    for j in range(len(mat1)):\n",
    "        row.append(mat1[i][j]*mat2[i][j])\n",
    "        \n",
    "    result.append(row)\n",
    "    \n",
    "result"
   ]
  },
  {
   "cell_type": "markdown",
   "id": "d05db2ea",
   "metadata": {},
   "source": [
    "3. Write a Python Program to Transpose a Matrix?"
   ]
  },
  {
   "cell_type": "code",
   "execution_count": 5,
   "id": "f5106878",
   "metadata": {},
   "outputs": [
    {
     "name": "stdout",
     "output_type": "stream",
     "text": [
      "[12, 4, 3]\n",
      "[7, 5, 8]\n"
     ]
    }
   ],
   "source": [
    "X = [[12,7],\n",
    "    [4 ,5],\n",
    "    [3 ,8]]\n",
    "\n",
    "result = [[0,0,0],\n",
    "         [0,0,0]]\n",
    "\n",
    "# iterating through rows\n",
    "for i in range(len(X)):\n",
    "   # iterating through columns\n",
    "   for j in range(len(X[0])):\n",
    "        result[j][i] = X[i][j]\n",
    "\n",
    "for r in result:\n",
    "    print(r)"
   ]
  },
  {
   "cell_type": "markdown",
   "id": "dd3530ca",
   "metadata": {},
   "source": [
    "4. Write a Python Program to Sort Words in Alphabetic Order?"
   ]
  },
  {
   "cell_type": "code",
   "execution_count": 6,
   "id": "fd8bea07",
   "metadata": {},
   "outputs": [
    {
     "name": "stdout",
     "output_type": "stream",
     "text": [
      "Enter the words: python programming assignments seems difficult\n",
      "Sorted order of words:\n",
      "assignments difficult programming python seems "
     ]
    }
   ],
   "source": [
    "try:\n",
    "    sentance = input(\"Enter the words: \")\n",
    "    words = [word.lower() for word in sentance.split()]\n",
    "    words.sort()\n",
    "    \n",
    "    print(\"Sorted order of words:\")\n",
    "    for word in words:\n",
    "        print(word, end = ' ')\n",
    "    \n",
    "except Exception as e:\n",
    "    print(e)"
   ]
  },
  {
   "cell_type": "markdown",
   "id": "3aa8075f",
   "metadata": {},
   "source": [
    "5. Write a Python Program to Remove Punctuation From a String?"
   ]
  },
  {
   "cell_type": "code",
   "execution_count": 9,
   "id": "8aed3950",
   "metadata": {},
   "outputs": [
    {
     "name": "stdout",
     "output_type": "stream",
     "text": [
      "Enter the string: my %*&^&^&^*name !##%is )((&*^&%pragati\n",
      "my name is pragati\n"
     ]
    }
   ],
   "source": [
    "punctuations = '''!()-[]{};:'\"\\,<>./?@#$%^&*_~'''\n",
    "\n",
    "string = input(\"Enter the string: \")\n",
    "\n",
    "outputString = \"\"\n",
    "\n",
    "for char in string:\n",
    "    if char not in punctuations:\n",
    "        outputString += char\n",
    "        \n",
    "print(outputString)"
   ]
  }
 ],
 "metadata": {
  "kernelspec": {
   "display_name": "Python 3 (ipykernel)",
   "language": "python",
   "name": "python3"
  },
  "language_info": {
   "codemirror_mode": {
    "name": "ipython",
    "version": 3
   },
   "file_extension": ".py",
   "mimetype": "text/x-python",
   "name": "python",
   "nbconvert_exporter": "python",
   "pygments_lexer": "ipython3",
   "version": "3.11.4"
  }
 },
 "nbformat": 4,
 "nbformat_minor": 5
}
